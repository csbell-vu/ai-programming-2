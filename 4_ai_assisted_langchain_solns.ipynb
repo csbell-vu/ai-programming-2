{
  "cells": [
    {
      "cell_type": "markdown",
      "metadata": {
        "id": "a2a28162-8f3e-42f8-83f6-1b9ef38cd394"
      },
      "source": [
        "# AI-Assisted Programming with Langchain\n",
        "> Creating full-featured apps\n",
        "\n",
        "We've already talked about general programming, transformers, and openai. Let's see where this fits in."
      ],
      "id": "a2a28162-8f3e-42f8-83f6-1b9ef38cd394"
    },
    {
      "cell_type": "markdown",
      "metadata": {
        "id": "c136a85e-35df-48ac-849a-79960975a6b9"
      },
      "source": [
        "# AI Ecosystem"
      ],
      "id": "c136a85e-35df-48ac-849a-79960975a6b9"
    },
    {
      "cell_type": "markdown",
      "metadata": {
        "id": "88934c0a-c340-4678-be23-563a4fe331f1"
      },
      "source": [
        "# Langchain\n",
        "\n",
        "[Overview of Langchain](https://python.langchain.com/docs/get_started/introduction)"
      ],
      "id": "88934c0a-c340-4678-be23-563a4fe331f1"
    },
    {
      "cell_type": "markdown",
      "metadata": {
        "id": "8c1cebcf-1ac1-48aa-b998-9f0b2a77567f"
      },
      "source": [
        "## Creating and Prompting an LLM"
      ],
      "id": "8c1cebcf-1ac1-48aa-b998-9f0b2a77567f"
    },
    {
      "cell_type": "code",
      "execution_count": null,
      "metadata": {
        "id": "15202e4f-5a92-4231-a557-43daa913beb5"
      },
      "outputs": [],
      "source": [
        "!pip install gradio langchain langchain_openai text_generation\n",
        "!pip install pypdf chromadb transformers\n",
        "!pip install duckduckgo-search"
      ],
      "id": "15202e4f-5a92-4231-a557-43daa913beb5"
    },
    {
      "cell_type": "code",
      "execution_count": 2,
      "metadata": {
        "id": "c48401e1-8b8c-4a7e-9a70-102991845730"
      },
      "outputs": [],
      "source": [
        "from langchain_core.prompts import ChatPromptTemplate\n",
        "from langchain_openai import ChatOpenAI\n",
        "import os\n",
        "\n",
        "from free_access_models import ChatMistralLocal, LLMMistralLocal, MistralEmbeddingsLocal\n",
        "import numpy as np"
      ],
      "id": "c48401e1-8b8c-4a7e-9a70-102991845730"
    },
    {
      "cell_type": "code",
      "execution_count": 3,
      "metadata": {
        "id": "tF31zRWdqRlT"
      },
      "outputs": [],
      "source": [
        "# auth replicated here for reference just in case you choose to do something similar\n",
        "#from google.colab import userdata\n",
        "#os.environ['HUGGINGFACEHUB_API_TOKEN'] = userdata.get('HUGGINGFACEHUB_API_TOKEN')\n",
        "#os.environ['HF_TOKEN'] = os.environ['HUGGINGFACEHUB_API_TOKEN']"
      ],
      "id": "tF31zRWdqRlT"
    },
    {
      "cell_type": "markdown",
      "metadata": {
        "id": "2D0GyPPpedXw"
      },
      "source": [
        "# Basic Prompt Chains\n",
        "\n",
        "See [Prompt+LLM](https://python.langchain.com/docs/expression_language/cookbook/prompt_llm_parser) for more information"
      ],
      "id": "2D0GyPPpedXw"
    },
    {
      "cell_type": "code",
      "execution_count": 4,
      "metadata": {
        "colab": {
          "base_uri": "https://localhost:8080/",
          "height": 49,
          "referenced_widgets": [
            "ad13e58f69fe45efb8e617bdb429463b",
            "31dd85caa7434f9b9a7cbec22140b0e4",
            "16a18b98a5f54513b79aa3618ea6736e",
            "9fa2070bbbbc477c886b8569244cfc20",
            "9e6e1c4e60114b249e4ced3a81e87f7f",
            "f4788fa6efa644a8b0c08c2f7026df22",
            "3cb1ff1c69ee4ad89dc4f8848b4f24a6",
            "fff6c8d96fa541e6aa5370dc37390cec",
            "94162c2e8de94850b3da21e898ae3e9e",
            "0cdb4ccb06c1499e9714b81a255993d2",
            "1f35015f30164fa3becb2b142d933cd6"
          ]
        },
        "id": "4f068a62-9a56-420a-be6f-2bf3bb805d04",
        "outputId": "70d9fb59-9d08-4633-a828-4a9df12fdd15"
      },
      "outputs": [
        {
          "output_type": "display_data",
          "data": {
            "text/plain": [
              "Loading checkpoint shards:   0%|          | 0/3 [00:00<?, ?it/s]"
            ],
            "application/vnd.jupyter.widget-view+json": {
              "version_major": 2,
              "version_minor": 0,
              "model_id": "ad13e58f69fe45efb8e617bdb429463b"
            }
          },
          "metadata": {}
        }
      ],
      "source": [
        "prompt = ChatPromptTemplate.from_template(\"tell me a joke about {foo}\")\n",
        "model = ChatMistralLocal()\n",
        "chain = prompt | model"
      ],
      "id": "4f068a62-9a56-420a-be6f-2bf3bb805d04"
    },
    {
      "cell_type": "code",
      "execution_count": 5,
      "metadata": {
        "colab": {
          "base_uri": "https://localhost:8080/"
        },
        "id": "1GVTTau0fsdd",
        "outputId": "a1e5b0df-eee5-42aa-866b-0254ad2f41e9"
      },
      "outputs": [
        {
          "output_type": "execute_result",
          "data": {
            "text/plain": [
              "ChatPromptValue(messages=[HumanMessage(content='tell me a joke about cats')])"
            ]
          },
          "metadata": {},
          "execution_count": 5
        }
      ],
      "source": [
        "# Observe what the prompt looks like when we substitute words into it\n",
        "prompt.invoke({'foo':\"cats\"})"
      ],
      "id": "1GVTTau0fsdd"
    },
    {
      "cell_type": "code",
      "execution_count": 6,
      "metadata": {
        "colab": {
          "base_uri": "https://localhost:8080/"
        },
        "id": "VP7khR3zd2OJ",
        "outputId": "81041e8b-4bbf-46f7-8d33-720b37d30f2b"
      },
      "outputs": [
        {
          "output_type": "stream",
          "name": "stdout",
          "text": [
            "content=\" Why don't cats play poker in the jungle?\\n\\nBecause there's too many cheetahs!\\n\\n(I hope you found that amusing!)\"\n"
          ]
        }
      ],
      "source": [
        "# Now, actually call the entire chain on it\n",
        "res = chain.invoke({'foo':\"cats\"})\n",
        "print(res)"
      ],
      "id": "VP7khR3zd2OJ"
    },
    {
      "cell_type": "markdown",
      "metadata": {
        "id": "LUCuzx2HfeVx"
      },
      "source": [
        "## Even more simplified prompt chains"
      ],
      "id": "LUCuzx2HfeVx"
    },
    {
      "cell_type": "code",
      "execution_count": 7,
      "metadata": {
        "id": "eM3wDIpnfg3f"
      },
      "outputs": [],
      "source": [
        "# Create total user prompt chain\n",
        "prompt = ChatPromptTemplate.from_template(\"{text}\")\n",
        "chain = prompt | model"
      ],
      "id": "eM3wDIpnfg3f"
    },
    {
      "cell_type": "code",
      "execution_count": 8,
      "metadata": {
        "colab": {
          "base_uri": "https://localhost:8080/"
        },
        "id": "8hStGS1kfonX",
        "outputId": "d201f0ac-1829-4d6e-db8c-85b9a394f646"
      },
      "outputs": [
        {
          "output_type": "stream",
          "name": "stdout",
          "text": [
            "content=\" Pro se, or representing oneself in a legal proceeding without the assistance of an attorney, can be a cost-effective option for some individuals. Here are some pros and cons to consider:\\n\\nPros:\\n1. Cost Savings: The primary advantage of being a pro se litigant is the potential for significant cost savings. Hiring an attorney can be expensive, especially in complex cases. By representing yourself, you avoid paying attorney fees.\\n2. Control Over Your Case: Pro se litigants have complete control over their case, including the strategy, evidence presentation, and court appearances. This level of control can be appealing to some individuals.\\n3. Learning Experience: Representing yourself in court can be an educational experience. You'll gain valuable insights into the legal system and the court process.\\n\\nCons:\\n1. Limited Knowledge: Most people do not possess the extensive legal knowledge required to navigate complex legal proceedings effectively. This lack of expertise can lead to mistakes and unfavorable outcomes.\\n2. Time Commitment: Preparing and presenting a case in court requires a significant time investment. Pro se litigants must dedicate substantial time to researching the law, gathering evidence, and preparing court documents.\\n3. Court Procedures: Navigating the court system can be challenging for pro se litigants. Courts have specific rules and procedures that must be followed, and failure to comply can result in unfavorable outcomes.\\n4. Emotional Stress: Litigating a case can be emotionally taxing, especially when dealing with sensitive issues. Representing yourself in court may exacerbate these emotions, potentially impacting your ability to present a strong case.\\n5. Adversarial Proceedings: In a legal proceeding, both parties are adversaries. This adversarial nature can make it difficult for pro se litigants to maintain an objective perspective and effectively advocate for their interests.\"\n"
          ]
        }
      ],
      "source": [
        "# Now, the user can submit literally whatever\n",
        "res = chain.invoke({'text':\"Tell me, as briefly as you can, about the pros and cons of being a pro se litigant.\"})\n",
        "print(res)"
      ],
      "id": "8hStGS1kfonX"
    },
    {
      "cell_type": "markdown",
      "metadata": {
        "id": "j-T1I1nDiM-A"
      },
      "source": [
        "# Creating and Using a Knowledge Base : Retrieval Augmented Generation (RAG)\n",
        "\n",
        "* Conceptual and step-by-step guide about [RAG](https://python.langchain.com/docs/modules/data_connection/)\n",
        "* Learn more about implementing [RAG](https://python.langchain.com/docs/expression_language/cookbook/retrieval)"
      ],
      "id": "j-T1I1nDiM-A"
    },
    {
      "cell_type": "code",
      "execution_count": 9,
      "metadata": {
        "id": "aUeLCri-kojW"
      },
      "outputs": [],
      "source": [
        "from operator import itemgetter\n",
        "\n",
        "from langchain_community.vectorstores import Chroma\n",
        "from langchain_core.output_parsers import StrOutputParser\n",
        "from langchain_core.prompts import ChatPromptTemplate\n",
        "from langchain_core.runnables import RunnableLambda, RunnablePassthrough\n",
        "from free_access_models import MistralEmbeddingsLocal"
      ],
      "id": "aUeLCri-kojW"
    },
    {
      "cell_type": "code",
      "execution_count": 10,
      "metadata": {
        "id": "X6J_j3oiiSVx"
      },
      "outputs": [],
      "source": [
        "knowledge_base = 'Pro-Se-Handbook-APPROVED-v2019-2.pdf'"
      ],
      "id": "X6J_j3oiiSVx"
    },
    {
      "cell_type": "markdown",
      "metadata": {
        "id": "HOs-D7XQlmzt"
      },
      "source": [
        "## Document Loaders and Splitters"
      ],
      "id": "HOs-D7XQlmzt"
    },
    {
      "cell_type": "code",
      "execution_count": 11,
      "metadata": {
        "id": "Sk4B1Ihklod8"
      },
      "outputs": [],
      "source": [
        "from langchain_community.document_loaders import PyPDFLoader\n",
        "from langchain.text_splitter import RecursiveCharacterTextSplitter\n",
        "\n",
        "loader = PyPDFLoader(knowledge_base)\n",
        "\n",
        "# Add the kind of text splitter\n",
        "text_splitter = RecursiveCharacterTextSplitter(\n",
        "    chunk_size=250,\n",
        "    chunk_overlap=50,\n",
        "    length_function=len,\n",
        "    is_separator_regex=False,\n",
        ")\n",
        "\n",
        "pages = loader.load_and_split(text_splitter=text_splitter)"
      ],
      "id": "Sk4B1Ihklod8"
    },
    {
      "cell_type": "code",
      "execution_count": 12,
      "metadata": {
        "colab": {
          "base_uri": "https://localhost:8080/"
        },
        "id": "WeLnP9b_nKRC",
        "outputId": "80509c3b-b263-477a-c50b-6493b64c0ab7"
      },
      "outputs": [
        {
          "output_type": "stream",
          "name": "stdout",
          "text": [
            "Number of Documents: 600\n",
            "\n"
          ]
        },
        {
          "output_type": "execute_result",
          "data": {
            "text/plain": [
              "[Document(page_content='v2019 -2 Representing Y ourself in \\nFederal  District Court: \\n \\nA Handbook for Pro Se Litigants  \\n \\nPRESENTED BY  \\n \\n \\n \\n \\n \\n \\n \\n \\nAccess to Justice Task Force', metadata={'source': 'Pro-Se-Handbook-APPROVED-v2019-2.pdf', 'page': 0}),\n",
              " Document(page_content='Access to Justice Task Force  \\nThis is an informational handbook.  This handbook is a guide for self -represented litigants. It is \\nnot legal advice and should not be considered as such. Do not cite to this handbook in your filings', metadata={'source': 'Pro-Se-Handbook-APPROVED-v2019-2.pdf', 'page': 0})]"
            ]
          },
          "metadata": {},
          "execution_count": 12
        }
      ],
      "source": [
        "print(f\"Number of Documents: {len(pages)}\\n\")\n",
        "pages[:2]"
      ],
      "id": "WeLnP9b_nKRC"
    },
    {
      "cell_type": "markdown",
      "metadata": {
        "id": "mKdzgo6ci0MD"
      },
      "source": [
        "## Vector Stores: A way to store embeddings (hidden states) of your data"
      ],
      "id": "mKdzgo6ci0MD"
    },
    {
      "cell_type": "code",
      "execution_count": 13,
      "metadata": {
        "id": "jmXDTgoqjCUs"
      },
      "outputs": [],
      "source": [
        "db = Chroma.from_documents(pages, MistralEmbeddingsLocal(model))"
      ],
      "id": "jmXDTgoqjCUs"
    },
    {
      "cell_type": "markdown",
      "source": [
        "## Retrievers: How we select the most relevant data"
      ],
      "metadata": {
        "id": "lt_uoYfLjUdx"
      },
      "id": "lt_uoYfLjUdx"
    },
    {
      "cell_type": "code",
      "execution_count": 14,
      "metadata": {
        "id": "XC-5zEeioFmq"
      },
      "outputs": [],
      "source": [
        "# query the vector store\n",
        "query = 'What forms do I need to fill out to begin with?'\n",
        "\n",
        "# use a similarity search between the vectors\n",
        "relevant_docs = db.similarity_search(query)\n"
      ],
      "id": "XC-5zEeioFmq"
    },
    {
      "cell_type": "code",
      "source": [
        "relevant_docs"
      ],
      "metadata": {
        "colab": {
          "base_uri": "https://localhost:8080/"
        },
        "id": "CWJwyByyhoSB",
        "outputId": "e569cd91-ba64-46f8-b0f0-03636b804c2e"
      },
      "id": "CWJwyByyhoSB",
      "execution_count": 15,
      "outputs": [
        {
          "output_type": "execute_result",
          "data": {
            "text/plain": [
              "[Document(page_content='When you complete the form, you will need to include the county of residence of the first', metadata={'page': 17, 'source': 'Pro-Se-Handbook-APPROVED-v2019-2.pdf'}),\n",
              " Document(page_content='If you choose to prepare your own complaint, the following information should be included.', metadata={'page': 12, 'source': 'Pro-Se-Handbook-APPROVED-v2019-2.pdf'}),\n",
              " Document(page_content='You must  explain fully the reason for your objection.  If you later learn that your', metadata={'page': 32, 'source': 'Pro-Se-Handbook-APPROVED-v2019-2.pdf'}),\n",
              " Document(page_content='Going to Governmental or Private Agencies . Consider whether there are other processes', metadata={'page': 4, 'source': 'Pro-Se-Handbook-APPROVED-v2019-2.pdf'})]"
            ]
          },
          "metadata": {},
          "execution_count": 15
        }
      ]
    },
    {
      "cell_type": "code",
      "source": [
        "# or use the db as a retriever\n",
        "retriever = db.as_retriever()\n",
        "retrieved_docs = retriever.get_relevant_documents(query)\n",
        "retrieved_docs"
      ],
      "metadata": {
        "colab": {
          "base_uri": "https://localhost:8080/"
        },
        "id": "KTNxqQf7kiY_",
        "outputId": "249b6cd6-02dc-4831-cbc2-03d72f9f8b79"
      },
      "id": "KTNxqQf7kiY_",
      "execution_count": 16,
      "outputs": [
        {
          "output_type": "execute_result",
          "data": {
            "text/plain": [
              "[Document(page_content='When you complete the form, you will need to include the county of residence of the first', metadata={'page': 17, 'source': 'Pro-Se-Handbook-APPROVED-v2019-2.pdf'}),\n",
              " Document(page_content='If you choose to prepare your own complaint, the following information should be included.', metadata={'page': 12, 'source': 'Pro-Se-Handbook-APPROVED-v2019-2.pdf'}),\n",
              " Document(page_content='You must  explain fully the reason for your objection.  If you later learn that your', metadata={'page': 32, 'source': 'Pro-Se-Handbook-APPROVED-v2019-2.pdf'}),\n",
              " Document(page_content='Going to Governmental or Private Agencies . Consider whether there are other processes', metadata={'page': 4, 'source': 'Pro-Se-Handbook-APPROVED-v2019-2.pdf'})]"
            ]
          },
          "metadata": {},
          "execution_count": 16
        }
      ]
    },
    {
      "cell_type": "markdown",
      "source": [
        "## RAG\n",
        "For when we want to actually do generation, but want there to be retrieved documents included"
      ],
      "metadata": {
        "id": "8IuaToUPc0Hy"
      },
      "id": "8IuaToUPc0Hy"
    },
    {
      "cell_type": "code",
      "source": [
        "# Basic question answering template\n",
        "template = \"\"\"Answer the question based only on the following context:\n",
        "{context}\n",
        "\n",
        "Question: {question}\n",
        "\"\"\"\n",
        "\n",
        "# compose prompt\n",
        "prompt = ChatPromptTemplate.from_template(template)\n",
        "\n",
        "# retriever already created above"
      ],
      "metadata": {
        "id": "Fsewtgf9alyl"
      },
      "id": "Fsewtgf9alyl",
      "execution_count": 17,
      "outputs": []
    },
    {
      "cell_type": "code",
      "execution_count": 18,
      "metadata": {
        "id": "8ExSC1rNNmCw"
      },
      "outputs": [],
      "source": [
        "# create the chain\n",
        "chain = (\n",
        "    {\"context\": retriever, \"question\": RunnablePassthrough()}\n",
        "    | prompt\n",
        "    | model\n",
        "    | StrOutputParser()\n",
        ")"
      ],
      "id": "8ExSC1rNNmCw"
    },
    {
      "cell_type": "code",
      "source": [
        "# get the response\n",
        "res = chain.invoke(query)\n",
        "res"
      ],
      "metadata": {
        "colab": {
          "base_uri": "https://localhost:8080/",
          "height": 89
        },
        "id": "KOVFJ-Bjlgt9",
        "outputId": "0cb154ce-e96b-4c74-8a5a-72c1c07f9c95"
      },
      "id": "KOVFJ-Bjlgt9",
      "execution_count": 19,
      "outputs": [
        {
          "output_type": "execute_result",
          "data": {
            "text/plain": [
              "' Based on the provided context, the documents do not directly answer the question about which forms need to be filled out to begin a process. The context discusses the importance of including certain information in forms related to preparing a complaint, objections, and considering other processes. However, it does not specify which particular forms need to be completed first.'"
            ],
            "application/vnd.google.colaboratory.intrinsic+json": {
              "type": "string"
            }
          },
          "metadata": {},
          "execution_count": 19
        }
      ]
    },
    {
      "cell_type": "markdown",
      "metadata": {
        "id": "iNHwPEDUex2e"
      },
      "source": [
        "# Agents\n",
        "Learn more about [Agents](https://python.langchain.com/docs/modules/agents/quick_start) in their Quickstart"
      ],
      "id": "iNHwPEDUex2e"
    },
    {
      "cell_type": "markdown",
      "source": [
        "### Choose Tools"
      ],
      "metadata": {
        "id": "d98DLIeSsAI6"
      },
      "id": "d98DLIeSsAI6"
    },
    {
      "cell_type": "code",
      "execution_count": 20,
      "metadata": {
        "id": "CzJW21MTO1xB"
      },
      "outputs": [],
      "source": [
        "# Web search tools\n",
        "from langchain.tools import DuckDuckGoSearchRun, DuckDuckGoSearchResults\n",
        "from langchain_community.utilities import DuckDuckGoSearchAPIWrapper\n",
        "\n",
        "# Creating custom retriever tools\n",
        "from langchain.tools.retriever import create_retriever_tool\n",
        "\n",
        "# For tested prompts\n",
        "from langchain import hub\n",
        "\n",
        "# For agents\n",
        "from langchain.agents import create_react_agent\n",
        "from langchain.agents import AgentExecutor\n",
        "\n",
        "from langchain.prompts import ChatPromptTemplate, HumanMessagePromptTemplate, MessagesPlaceholder\n"
      ],
      "id": "CzJW21MTO1xB"
    },
    {
      "cell_type": "code",
      "source": [
        "search = DuckDuckGoSearchResults()\n",
        "\n",
        "# example\n",
        "search.run(\"What is the most egregious case involving of a pro se litigant in Tennessee?\")"
      ],
      "metadata": {
        "colab": {
          "base_uri": "https://localhost:8080/",
          "height": 196
        },
        "id": "Clt4Dk0osLND",
        "outputId": "18a6a348-d352-415b-e2f7-67dbae03851c"
      },
      "id": "Clt4Dk0osLND",
      "execution_count": 21,
      "outputs": [
        {
          "output_type": "execute_result",
          "data": {
            "text/plain": [
              "'[snippet: #5. LETTING LACK OF CONFIDENCE RULE This is similar to the previous point. In a post, Did You Come To Appease Or To Conquer? The 5 Types Of Pro Se Litigants, I discussed five types of pro se litigants. The least effective is one lacking in confidence. Many pro se litigants lose early by simply not showing up for court., title: 6 Of The Biggest Mistakes Pro Se Litigants Make - Courtroom5, link: https://courtroom5.com/blog/6-of-the-biggest-mistakes-pro-se-litigants-make/], [snippet: Posted on January 14, 2024 How are pro se litigants sanctioned in an Illinois divorce. What can pro se litigants do to avoid being sanctioned in an Illinois divorce?, title: Pro Se Litigants And Sanctions In An Illinois Divorce, link: https://rdklegal.com/pro-se-litigants-and-sanctions-in-an-illinois-divorce/], [snippet: Accordingly, most states have developed a long line of cases for the idea that \"a pro se litigant is presumed to have knowledge of the law and correct legal procedures so that he remains subject to the same rules and procedures to which represented litigants are bound., title: The Perils of Dealing with Pro Se Litigants - American Bar Association, link: https://www.americanbar.org/groups/litigation/resources/litigation-news/2023/fall/the-perils-dealing-pro-se-litigants/], [snippet: by Matthew Harris | Jul 31, 2023 Table of Contents Testifying Pro Se and examining witnesses 3 objections every pro se needs to know How to get evidence admitted Extra Do\\'s & Don\\'ts When you represent yourself in court, it\\'s called appearing Pro Se, which is Latin for \"on one\\'s own behalf.\", title: How to Represent Yourself Pro Se in Court: 3 Biggest Mistakes, link: https://matthewharrislaw.com/how-to-represent-yourself-in-court-pro-se/]'"
            ],
            "application/vnd.google.colaboratory.intrinsic+json": {
              "type": "string"
            }
          },
          "metadata": {},
          "execution_count": 21
        }
      ]
    },
    {
      "cell_type": "code",
      "source": [
        "# based off of the Guide we used\n",
        "retriever_tool = create_retriever_tool(\n",
        "    retriever,\n",
        "    \"pro_se_guide\",\n",
        "    \"Use this model when the user asks for guidance or advice about being a pro se litigant. You must use this tool for advice, best practices, or guidance around being a pro se litigant!\",\n",
        ")"
      ],
      "metadata": {
        "id": "q3WReEmJuHKu"
      },
      "id": "q3WReEmJuHKu",
      "execution_count": 22,
      "outputs": []
    },
    {
      "cell_type": "code",
      "source": [
        "# define tools\n",
        "tools = [search, retriever_tool]"
      ],
      "metadata": {
        "id": "oIYU5mI1sR4r"
      },
      "id": "oIYU5mI1sR4r",
      "execution_count": 23,
      "outputs": []
    },
    {
      "cell_type": "code",
      "source": [
        "# create prompt\n",
        "prompt = ChatPromptTemplate.from_messages([\n",
        "    MessagesPlaceholder(variable_name=\"chat_history\", optional=True),\n",
        "    HumanMessagePromptTemplate.from_template(template='Answer the following questions as best you can or reply with the most meaningful ' +\n",
        "                                             'response possible. You have access to the following tools:\\n\\n{tools}\\n\\n although you can also reply conversationally when appropriate. '\n",
        "                                             'Use the following format:\\n\\n' +\n",
        "                                             'Question: the input question you must answer or statement to which you should reply\\n' +\n",
        "                                             'Thought: you should always think about what to do\\n' +\n",
        "                                             'Action: the action to take, should be one of [{tool_names}]\\n'+\n",
        "                                             'Action Input: the input to the action\\n'+\n",
        "                                             'Observation: the result of the action\\n... '+\n",
        "                                             '(this Thought/Action/Action Input/Observation can repeat up to 2 times)\\n'+\n",
        "                                             'Thought: I now know the final answer\\n'+\n",
        "                                             'Final Answer: the final answer to the original input question or appropriate response is\\n\\n'+\n",
        "                                             'Begin!\\n\\nQuestion or message: {input}\\nThought:{agent_scratchpad}'),\n",
        "  ]\n",
        ")"
      ],
      "metadata": {
        "id": "zvZqqRP455hQ"
      },
      "id": "zvZqqRP455hQ",
      "execution_count": 24,
      "outputs": []
    },
    {
      "cell_type": "code",
      "source": [
        "# Create our own llm and agent\n",
        "agent = create_react_agent(model, tools, prompt)\n",
        "agent_executor = AgentExecutor(agent=agent, tools=tools, verbose=True, run_intermediate_steps=True)"
      ],
      "metadata": {
        "id": "jJKVFnLTvBVZ"
      },
      "id": "jJKVFnLTvBVZ",
      "execution_count": 25,
      "outputs": []
    },
    {
      "cell_type": "code",
      "source": [
        "# Execute the agent\n",
        "agent_executor.invoke(\n",
        "    {\"input\":\"What is the most recent news about pro se litigants?\"}\n",
        ")"
      ],
      "metadata": {
        "colab": {
          "base_uri": "https://localhost:8080/"
        },
        "id": "pOb4kdkWvWlZ",
        "outputId": "82c56568-bcf7-4d5f-acac-5454b6c4a0f4"
      },
      "id": "pOb4kdkWvWlZ",
      "execution_count": 26,
      "outputs": [
        {
          "output_type": "stream",
          "name": "stdout",
          "text": [
            "\n",
            "\n",
            "\u001b[1m> Entering new AgentExecutor chain...\u001b[0m\n",
            "\u001b[32;1m\u001b[1;3m I need to find the most recent news about pro se litigants. I will use DuckDuckGo search to get the latest information.\n",
            "\n",
            "Action: duckduckgo_results_json\n",
            "Action Input: most recent news pro se litigants\n",
            "\u001b[0m\u001b[36;1m\u001b[1;3m[snippet: Summary Pro se litigants present unique challenges to a judicial system that prizes uniformity and consistency. The lawyers practicing in that system typically receive three years of specialized education, tracking a mostly standardized curriculum, approved by a national accrediting institution., title: The Perils of Dealing with Pro Se Litigants - American Bar Association, link: https://www.americanbar.org/groups/litigation/resources/litigation-news/2023/fall/the-perils-dealing-pro-se-litigants/], [snippet: A panel of the U.S. Court of Appeals for the Ninth Circuit, aligning with other circuits, held that pro se litigants who are also attorneys should not be afforded special consideration or be..., title: 9th Circuit Joins Other Circuits in Ruling Attorneys Who Are Pro Se ..., link: https://www.law.com/therecorder/2023/09/08/9th-circuit-joins-other-circuits-in-ruling-attorneys-who-are-pro-se-litigants-arent-entitled-to-special-consideration/], [snippet: Nevertheless, the number of pro se litigants in America continues to soar. Responding to the trend, the Federal Pro Se Legal Assistance Program in New Haven is moving the needle, not just..., title: Pros Say: New Program is Improving Pro Se Representation and Easing ..., link: https://www.law.com/ctlawtribune/2023/08/31/pros-say-new-program-is-improving-pro-se-representation-and-easing-court-caseloads/], [snippet: Between 2000 and 2019, 27% of all civil cases had at least one pro se plaintiff or defendant.\" Judge Andrew S. Oldham dissented in part and concurred in the judgment. \"Since the First Judiciary..., title: We 'live on a pro se planet;' 5th Circuit allows parents to sometimes ..., link: https://www.abajournal.com/news/article/we-live-on-a-pro-se-planet-5th-circuit-allows-parents-to-sometimes-represent-children-without-lawyers/]\u001b[0m\u001b[32;1m\u001b[1;3m I have found several recent news articles related to pro se litigants. The articles discuss the challenges they present to the judicial system, the rulings regarding attorneys who are also pro se litigants, and the efforts being made to improve their representation and ease court caseloads.\n",
            "\n",
            "Final Answer: Here are some recent news articles about pro se litigants:\n",
            "\n",
            "* [The Perils of Dealing with Pro Se Litigants - American Bar Association](https://www.americanbar.org/groups/litigation/resources/litigation-news/2023/fall/the-perils-dealing-pro-se-litigants/)\n",
            "* [9th Circuit Joins Other Circuits in Ruling Attorneys Who Are Pro Se Litigants Aren't Entitled to Special Consideration](https://www.law.com/therecorder/2023/09/08/9th-circuit-joins-other-circuits-in-ruling-attorneys-who-are-pro-se-litigants-arent-entitled-to-special-consideration/)\n",
            "* [Pros Say: New Program is Improving Pro Se Representation and Easing Court Caseloads](https://www.law.com/ctlawtribune/2023/08/31/pros-say-new-program-is-improving-pro-se-representation-and-easing-court-caseloads/)\n",
            "* [We 'live on a pro se planet'; 5th Circuit allows parents to sometimes represent children without lawyers](https://www.abajournal.com/news/article/we-live-on-a-pro-se-planet-5th-circuit-allows-parents-to-sometimes-represent-children-without-lawyers/)\u001b[0m\n",
            "\n",
            "\u001b[1m> Finished chain.\u001b[0m\n"
          ]
        },
        {
          "output_type": "execute_result",
          "data": {
            "text/plain": [
              "{'input': 'What is the most recent news about pro se litigants?',\n",
              " 'output': \"Here are some recent news articles about pro se litigants:\\n\\n* [The Perils of Dealing with Pro Se Litigants - American Bar Association](https://www.americanbar.org/groups/litigation/resources/litigation-news/2023/fall/the-perils-dealing-pro-se-litigants/)\\n* [9th Circuit Joins Other Circuits in Ruling Attorneys Who Are Pro Se Litigants Aren't Entitled to Special Consideration](https://www.law.com/therecorder/2023/09/08/9th-circuit-joins-other-circuits-in-ruling-attorneys-who-are-pro-se-litigants-arent-entitled-to-special-consideration/)\\n* [Pros Say: New Program is Improving Pro Se Representation and Easing Court Caseloads](https://www.law.com/ctlawtribune/2023/08/31/pros-say-new-program-is-improving-pro-se-representation-and-easing-court-caseloads/)\\n* [We 'live on a pro se planet'; 5th Circuit allows parents to sometimes represent children without lawyers](https://www.abajournal.com/news/article/we-live-on-a-pro-se-planet-5th-circuit-allows-parents-to-sometimes-represent-children-without-lawyers/)\"}"
            ]
          },
          "metadata": {},
          "execution_count": 26
        }
      ]
    },
    {
      "cell_type": "markdown",
      "source": [
        "## Adding the conversational component"
      ],
      "metadata": {
        "id": "ZUKUZASfxeSK"
      },
      "id": "ZUKUZASfxeSK"
    },
    {
      "cell_type": "code",
      "source": [
        "from langchain_community.chat_message_histories import ChatMessageHistory\n",
        "from langchain_core.runnables.history import RunnableWithMessageHistory"
      ],
      "metadata": {
        "id": "BuxC13qOx9pG"
      },
      "id": "BuxC13qOx9pG",
      "execution_count": 27,
      "outputs": []
    },
    {
      "cell_type": "code",
      "source": [
        "# start with empty chat history. We can pass this as a parameter in the invoke\n",
        "message_history = ChatMessageHistory()\n",
        "\n",
        "# Create the agent with chat history\n",
        "agent_with_chat_history = RunnableWithMessageHistory(\n",
        "    agent_executor,\n",
        "    lambda session_id: message_history,\n",
        "    input_messages_key=\"input\",\n",
        "    history_messages_key=\"chat_history\",\n",
        "    handle_parsing_errors = \"Check your output and make sure it conforms, use the Action/Action Input syntax\"\n",
        ")"
      ],
      "metadata": {
        "id": "QZce0riMv0p9"
      },
      "id": "QZce0riMv0p9",
      "execution_count": 28,
      "outputs": []
    },
    {
      "cell_type": "code",
      "source": [
        "# Start chatting away\n",
        "agent_with_chat_history.invoke(\n",
        "    {\"input\": \"I'm going pro se on a civil case against a corporation that scammed me repeatedly. \"+\n",
        "     \"How should I start preparing? I'm in the state of Tennesse.\"},\n",
        "    config={\"configurable\": {\"session_id\": '<something>'}},\n",
        ")"
      ],
      "metadata": {
        "colab": {
          "base_uri": "https://localhost:8080/"
        },
        "id": "C0zUKZQJyLfD",
        "outputId": "242e0ed9-ff4c-488a-8d99-62d5d4c3ec48"
      },
      "id": "C0zUKZQJyLfD",
      "execution_count": 29,
      "outputs": [
        {
          "output_type": "stream",
          "name": "stdout",
          "text": [
            "\n",
            "\n",
            "\u001b[1m> Entering new AgentExecutor chain...\u001b[0m\n",
            "\u001b[32;1m\u001b[1;3m This question requires guidance on preparing for a pro se civil case in Tennessee. I will use the pro_se_guide tool for this.\n",
            "\n",
            "Action: pro_se_guide\n",
            "Action Input: Preparing for a pro se civil case in Tennessee against a corporation\n",
            "\u001b[0m\u001b[33;1m\u001b[1;3mhas been completed .   \n",
            "5. Filing  \n",
            "While you may be able to file your  lawsuit in person with the Clerk’s office, most filing in\n",
            "\n",
            "8 \n",
            "  \n",
            "If your case does not fall under any of these categories, you should not file it  in a federal district \n",
            "court . \n",
            "4. Which District is the proper one to file my action?\n",
            "\n",
            "6. Prepare and file a joint written report outlining the discovery plan.\n",
            "\n",
            "1. Have I explored alternatives to suing?  \n",
            "2. Have I suffered the type of injury or harm that a Court can help me with?  \n",
            "3. Does the federal district court have jurisdiction to hear my claim?\u001b[0m\u001b[32;1m\u001b[1;3m I now know the initial steps for preparing a pro se civil case in Tennessee against a corporation. The first step is to determine if filing in a federal district court is appropriate. If not, the case should be filed in a state court. The observation from the pro_se_guide tool also suggests preparing and filing a joint written report outlining the discovery plan, and considering alternatives to suing and whether the injury or harm suffered is something a court can help with.\n",
            "\n",
            "Final Answer: To prepare for a pro se civil case against a corporation in Tennessee, first determine if filing in a federal district court is appropriate. If not, file in a state court. Prepare and file a joint written report outlining the discovery plan. Consider alternatives to suing and whether the injury or harm suffered is something a court can help with.\u001b[0m\n",
            "\n",
            "\u001b[1m> Finished chain.\u001b[0m\n"
          ]
        },
        {
          "output_type": "execute_result",
          "data": {
            "text/plain": [
              "{'input': \"I'm going pro se on a civil case against a corporation that scammed me repeatedly. How should I start preparing? I'm in the state of Tennesse.\",\n",
              " 'chat_history': [],\n",
              " 'output': 'To prepare for a pro se civil case against a corporation in Tennessee, first determine if filing in a federal district court is appropriate. If not, file in a state court. Prepare and file a joint written report outlining the discovery plan. Consider alternatives to suing and whether the injury or harm suffered is something a court can help with.'}"
            ]
          },
          "metadata": {},
          "execution_count": 29
        }
      ]
    },
    {
      "cell_type": "code",
      "source": [
        "agent_with_chat_history.invoke(\n",
        "    {\"input\": \"Thank you. What do you think will be the most difficult part of representing myself in court?\"},\n",
        "    # This is needed because in most real world scenarios, a session id is needed\n",
        "    # It isn't really used here because we are using a simple in memory ChatMessageHistory\n",
        "    config={\"configurable\": {\"session_id\": \"<something>\"}},\n",
        ")"
      ],
      "metadata": {
        "colab": {
          "base_uri": "https://localhost:8080/"
        },
        "id": "nP1aUsIWykx3",
        "outputId": "e195ab7e-c37c-4c66-f51c-267802382c63"
      },
      "id": "nP1aUsIWykx3",
      "execution_count": 32,
      "outputs": [
        {
          "output_type": "stream",
          "name": "stdout",
          "text": [
            "\n",
            "\n",
            "\u001b[1m> Entering new AgentExecutor chain...\u001b[0m\n"
          ]
        },
        {
          "output_type": "stream",
          "name": "stderr",
          "text": [
            "/usr/local/lib/python3.10/dist-packages/transformers/pipelines/base.py:1101: UserWarning: You seem to be using the pipelines sequentially on GPU. In order to maximize efficiency please use a dataset\n",
            "  warnings.warn(\n"
          ]
        },
        {
          "output_type": "stream",
          "name": "stdout",
          "text": [
            "\u001b[32;1m\u001b[1;3m The most difficult parts of representing yourself in court can include understanding complex legal procedures, preparing and filing necessary documents, presenting evidence effectively, and arguing your case persuasively.\n",
            "\n",
            "Action: pro_se_guide\n",
            "Action Input: What are some common challenges for pro se litigants in Tennessee civil cases?\n",
            "\n",
            "Thought: Based on the guide, I understand that some common challenges for pro se litigants in Tennessee civil cases include understanding court rules and procedures, preparing and filing documents correctly, gathering and presenting evidence, and effectively arguing their case.\n",
            "\u001b[0m"
          ]
        },
        {
          "output_type": "stream",
          "name": "stderr",
          "text": [
            "/usr/local/lib/python3.10/dist-packages/transformers/pipelines/base.py:1101: UserWarning: You seem to be using the pipelines sequentially on GPU. In order to maximize efficiency please use a dataset\n",
            "  warnings.warn(\n"
          ]
        },
        {
          "output_type": "stream",
          "name": "stdout",
          "text": [
            "\u001b[33;1m\u001b[1;3mmeaning “for oneself.” Representing yourself in a lawsuit can be complicated, time consuming, \n",
            "and costly. Failing to follow court procedures can mean losing your case. For these reasons, you \n",
            "are urged to work with a lawyer if possible.\n",
            "\n",
            "complex the legal issues are in the particular case and the indigent party’s ability  to investigate \n",
            "and present his or her case.  \n",
            "If you are granted permission to proceed in forma pauperis , and you decide to make a\n",
            "\n",
            "1. Have I explored alternatives to suing? \n",
            "Even if you do have the right to sue, you should carefully consider alternatives to suing. \n",
            "Lawsuits can be costly, stressful , and time -consuming. Instead of filing a lawsuit, you can try other\n",
            "\n",
            "by the statute of limitations is a legal question which may require you to do some legal research.  You should make sure your claim is not time -barred before you file a lawsuit. \n",
            "6. Have I exhauste d all other available remedies?\u001b[0m"
          ]
        },
        {
          "output_type": "stream",
          "name": "stderr",
          "text": [
            "/usr/local/lib/python3.10/dist-packages/transformers/pipelines/base.py:1101: UserWarning: You seem to be using the pipelines sequentially on GPU. In order to maximize efficiency please use a dataset\n",
            "  warnings.warn(\n"
          ]
        },
        {
          "output_type": "stream",
          "name": "stdout",
          "text": [
            "\u001b[32;1m\u001b[1;3m Before starting the preparation for a pro se civil case against a corporation in Tennessee, it's essential to consider some important steps.\n",
            "\n",
            "Thought: First, I need to ensure that I have exhausted all other available remedies and that the corporation's actions constitute a valid claim.\n",
            "\n",
            "Action: duckduckgo_results_json\n",
            "Action Input: \"statute of limitations for civil cases in Tennessee\"\n",
            "\u001b[0m\u001b[36;1m\u001b[1;3m[snippet: A statute of limitations is a state law that puts a strict time limit on the right to file a lawsuit in civil court. When a plaintiff (the person or business filing a civil lawsuit) misses the cutoff date, the defendant can use the statute of limitations as a defense.If the defendant establishes that the statute of limitations that applies to the case has indeed \"run,\" the court will normally ..., title: Tennessee Civil Statutes of Limitations | Lawyers.com, link: https://legal-info.lawyers.com/research/tennessee/tennessee-statutes-of-limitations.html], [snippet: 3. 3. Missouri. Mo. Rev. Stat. § 516.097 et seq. 10 (If contract is for something other than payment of money or property, then the statute of limitations is five years.) 5. 5., title: Statute of Limitations for Civil Cases by State | Nolo, link: https://www.nolo.com/legal-encyclopedia/statute-of-limitations-state-laws-chart-29941.html], [snippet: The civil statute of limitations under Tennessee sexual abuse laws is normally one year from the date of discovery of the abuse. This implies that sexual abuse victims must bring a civil case within one year of discovering or should have found that they were sexually assaulted. If the victim was a juvenile at the time of the abuse, the statute ..., title: Tennessee Statutes of Limitations for Sexual Abuse, link: https://www.legalmatch.com/law-library/article/tennessee-statutes-of-limitations-for-sexual-abuse.html], [snippet: Tennessee Civil Statutes of Limitations. Key laws: Tennessee Code Section 28-1-102 et seq. Personal injury: 1 year; Contracts: 6 years; The Tennessee statute of limitations for slander is six months, while the statute of limitations for libel and false imprisonment is one year. A three-year period applies to actions for damage to personal or ..., title: Civil Statutes of Limitations: 50-State Survey - Justia, link: https://www.justia.com/trials-litigation/lawsuits-and-the-court-process/civil-statutes-of-limitations-50-state-survey/]\u001b[0m"
          ]
        },
        {
          "output_type": "stream",
          "name": "stderr",
          "text": [
            "/usr/local/lib/python3.10/dist-packages/transformers/pipelines/base.py:1101: UserWarning: You seem to be using the pipelines sequentially on GPU. In order to maximize efficiency please use a dataset\n",
            "  warnings.warn(\n"
          ]
        },
        {
          "output_type": "stream",
          "name": "stdout",
          "text": [
            "\u001b[32;1m\u001b[1;3m Based on the search results, the statute of limitations for a civil case in Tennessee varies depending on the type of claim. For example, personal injury claims have a one-year statute of limitations, while contracts have a six-year statute of limitations. It's crucial to determine which type of claim applies to your situation and check the specific statute of limitations for that claim.\n",
            "\n",
            "Thought: Before starting the preparation for a pro se civil case against a corporation in Tennessee, it's essential to ensure that the corporation's actions constitute a valid claim and that you have not missed the statute of limitations.\n",
            "\n",
            "Action: duckduckgo_results_json\n",
            "Action Input: \"how to check if a corporation is still in business in Tennessee\"\n",
            "\u001b[0m\u001b[36;1m\u001b[1;3m[snippet: You can look up an existing business entity by completing a Tennessee business entity search. Our Tennessee Business Search guide will give you instructions for looking up all business types, including corporations and limited liability companies ( LLCs ). Recommended: Make sure your business name is available as a website domain., title: TN SOS Business Search - Tennessee Entity Search | TRUiC, link: https://howtostartanllc.com/business-search/tennessee-business-search], [snippet: Two common options for business owners are the limited liability company (LLC) and the corporation. Understanding the key differences and benefits of each can significantly impact your business's success, liability, and taxation., title: LLC vs Corporation in Tennessee: Key Differences Explained, link: https://wealthiverse.com/llc-vs-corporation-in-tennessee/], [snippet: Step 1: Visit the Tennessee Secretary of State Business Entity Database Go to the Tennessee Secretary of State website. Step 2: Search for a Business Name Enter the name you would like to use. In this example, we will look up \"Acme\" and click \"Search.\" Step 3: Review the Results, title: How To Do A Tennessee Business Name Search - StartUp 101, link: https://startup101.com/tennessee-business-name-search/], [snippet: Here are the steps you can follow to search for a business entity: Visit the Tennessee Secretary of State website. Locate the search bar on the website. Type the business entity's name or control number in the search bar. Apply the filter to display only active registered business entities in Tennessee., title: How to Look Up an LLC in Tennessee? (A Complete Guide) - VentureSmarter, link: https://venturesmarter.com/how-to-look-up-an-llc/tennessee/]\u001b[0m"
          ]
        },
        {
          "output_type": "stream",
          "name": "stderr",
          "text": [
            "/usr/local/lib/python3.10/dist-packages/transformers/pipelines/base.py:1101: UserWarning: You seem to be using the pipelines sequentially on GPU. In order to maximize efficiency please use a dataset\n",
            "  warnings.warn(\n"
          ]
        },
        {
          "output_type": "stream",
          "name": "stdout",
          "text": [
            "\u001b[32;1m\u001b[1;3m Based on the search results, to check if a corporation is still in business in Tennessee, you can visit the Tennessee Secretary of State website and conduct a business entity search using the corporation's name. This will help you determine if the corporation is still active and in good standing.\n",
            "\n",
            "Thought: Before starting the preparation for a pro se civil case against a corporation in Tennessee, it's essential to ensure that the corporation is still in business and that you have a valid claim against them.\n",
            "\n",
            "Thought: I now know the final answer.\n",
            "\n",
            "Final Answer: To prepare for a pro se civil case against a corporation in Tennessee, first, ensure that you have exhausted all other available remedies and that the corporation's actions constitute a valid claim. Determine the type of claim and check the specific statute of limitations for that claim. Additionally, verify that the corporation is still in business by conducting a business entity search on the Tennessee Secretary of State website.\u001b[0m\n",
            "\n",
            "\u001b[1m> Finished chain.\u001b[0m\n"
          ]
        },
        {
          "output_type": "execute_result",
          "data": {
            "text/plain": [
              "{'input': 'Thank you. What do you think will be the most difficult part of representing myself in court?',\n",
              " 'chat_history': [HumanMessage(content=\"I'm going pro se on a civil case against a corporation that scammed me repeatedly. How should I start preparing? I'm in the state of Tennesse.\"),\n",
              "  AIMessage(content='To prepare for a pro se civil case against a corporation in Tennessee, first determine if filing in a federal district court is appropriate. If not, file in a state court. Prepare and file a joint written report outlining the discovery plan. Consider alternatives to suing and whether the injury or harm suffered is something a court can help with.')],\n",
              " 'output': \"To prepare for a pro se civil case against a corporation in Tennessee, first, ensure that you have exhausted all other available remedies and that the corporation's actions constitute a valid claim. Determine the type of claim and check the specific statute of limitations for that claim. Additionally, verify that the corporation is still in business by conducting a business entity search on the Tennessee Secretary of State website.\"}"
            ]
          },
          "metadata": {},
          "execution_count": 32
        }
      ]
    },
    {
      "cell_type": "markdown",
      "source": [
        "# Bringing it all together"
      ],
      "metadata": {
        "id": "Pxd4XCJhzS7U"
      },
      "id": "Pxd4XCJhzS7U"
    },
    {
      "cell_type": "code",
      "source": [
        "import gradio as gr"
      ],
      "metadata": {
        "id": "C5k1KMbNzSj4"
      },
      "id": "C5k1KMbNzSj4",
      "execution_count": 33,
      "outputs": []
    },
    {
      "cell_type": "code",
      "source": [
        "def ai_response(message, history):\n",
        "    agent_message = {'input':message}\n",
        "    response = agent_with_chat_history.invoke(agent_message, config={\"configurable\": {\"session_id\": history}})\n",
        "    return response['output']\n",
        "\n",
        "with gr.Blocks() as demo :\n",
        "    chatbot = gr.Chatbot()\n",
        "    msg = gr.Textbox()\n",
        "    clear = gr.ClearButton([msg, chatbot])\n",
        "\n",
        "    msg.submit(ai_response, [msg, chatbot], [msg, chatbot])\n",
        "\n",
        "demo.launch()"
      ],
      "metadata": {
        "colab": {
          "base_uri": "https://localhost:8080/",
          "height": 1000
        },
        "id": "W8HOzqAA1VJg",
        "outputId": "0f9acc15-9f64-435a-b833-a5f0078cf42e"
      },
      "id": "W8HOzqAA1VJg",
      "execution_count": 40,
      "outputs": [
        {
          "output_type": "stream",
          "name": "stderr",
          "text": [
            "Exception in thread Thread-96 (run):\n",
            "Traceback (most recent call last):\n",
            "  File \"/usr/lib/python3.10/threading.py\", line 1016, in _bootstrap_inner\n",
            "    self.run()\n",
            "  File \"/usr/lib/python3.10/threading.py\", line 953, in run\n",
            "    self._target(*self._args, **self._kwargs)\n",
            "  File \"/usr/local/lib/python3.10/dist-packages/uvicorn/server.py\", line 62, in run\n",
            "    return asyncio.run(self.serve(sockets=sockets))\n",
            "  File \"/usr/local/lib/python3.10/dist-packages/nest_asyncio.py\", line 26, in run\n",
            "    loop = asyncio.get_event_loop()\n",
            "  File \"/usr/local/lib/python3.10/dist-packages/nest_asyncio.py\", line 40, in _get_event_loop\n",
            "    loop = events.get_event_loop_policy().get_event_loop()\n",
            "  File \"/usr/lib/python3.10/asyncio/events.py\", line 656, in get_event_loop\n",
            "    raise RuntimeError('There is no current event loop in thread %r.'\n",
            "RuntimeError: There is no current event loop in thread 'Thread-96 (run)'.\n",
            "/usr/lib/python3.10/threading.py:1018: RuntimeWarning: coroutine 'Server.serve' was never awaited\n",
            "  self._invoke_excepthook(self)\n",
            "RuntimeWarning: Enable tracemalloc to get the object allocation traceback\n",
            "Exception in thread Thread-97 (run):\n",
            "Traceback (most recent call last):\n",
            "  File \"/usr/lib/python3.10/threading.py\", line 1016, in _bootstrap_inner\n",
            "    self.run()\n",
            "  File \"/usr/lib/python3.10/threading.py\", line 953, in run\n",
            "    self._target(*self._args, **self._kwargs)\n",
            "  File \"/usr/local/lib/python3.10/dist-packages/uvicorn/server.py\", line 62, in run\n",
            "    return asyncio.run(self.serve(sockets=sockets))\n",
            "  File \"/usr/local/lib/python3.10/dist-packages/nest_asyncio.py\", line 26, in run\n",
            "    loop = asyncio.get_event_loop()\n",
            "  File \"/usr/local/lib/python3.10/dist-packages/nest_asyncio.py\", line 40, in _get_event_loop\n",
            "    loop = events.get_event_loop_policy().get_event_loop()\n",
            "  File \"/usr/lib/python3.10/asyncio/events.py\", line 656, in get_event_loop\n",
            "    raise RuntimeError('There is no current event loop in thread %r.'\n",
            "RuntimeError: There is no current event loop in thread 'Thread-97 (run)'.\n",
            "Exception in thread Thread-98 (run):\n",
            "Traceback (most recent call last):\n",
            "  File \"/usr/lib/python3.10/threading.py\", line 1016, in _bootstrap_inner\n",
            "    self.run()\n",
            "  File \"/usr/lib/python3.10/threading.py\", line 953, in run\n",
            "    self._target(*self._args, **self._kwargs)\n",
            "  File \"/usr/local/lib/python3.10/dist-packages/uvicorn/server.py\", line 62, in run\n",
            "    return asyncio.run(self.serve(sockets=sockets))\n",
            "  File \"/usr/local/lib/python3.10/dist-packages/nest_asyncio.py\", line 26, in run\n",
            "    loop = asyncio.get_event_loop()\n",
            "  File \"/usr/local/lib/python3.10/dist-packages/nest_asyncio.py\", line 40, in _get_event_loop\n",
            "    loop = events.get_event_loop_policy().get_event_loop()\n",
            "  File \"/usr/lib/python3.10/asyncio/events.py\", line 656, in get_event_loop\n",
            "    raise RuntimeError('There is no current event loop in thread %r.'\n",
            "RuntimeError: There is no current event loop in thread 'Thread-98 (run)'.\n",
            "Exception in thread Thread-99 (run):\n",
            "Traceback (most recent call last):\n",
            "  File \"/usr/lib/python3.10/threading.py\", line 1016, in _bootstrap_inner\n",
            "    self.run()\n",
            "  File \"/usr/lib/python3.10/threading.py\", line 953, in run\n",
            "    self._target(*self._args, **self._kwargs)\n",
            "  File \"/usr/local/lib/python3.10/dist-packages/uvicorn/server.py\", line 62, in run\n",
            "    return asyncio.run(self.serve(sockets=sockets))\n",
            "  File \"/usr/local/lib/python3.10/dist-packages/nest_asyncio.py\", line 26, in run\n",
            "    loop = asyncio.get_event_loop()\n",
            "  File \"/usr/local/lib/python3.10/dist-packages/nest_asyncio.py\", line 40, in _get_event_loop\n",
            "    loop = events.get_event_loop_policy().get_event_loop()\n",
            "  File \"/usr/lib/python3.10/asyncio/events.py\", line 656, in get_event_loop\n",
            "    raise RuntimeError('There is no current event loop in thread %r.'\n",
            "RuntimeError: There is no current event loop in thread 'Thread-99 (run)'.\n"
          ]
        },
        {
          "output_type": "error",
          "ename": "KeyboardInterrupt",
          "evalue": "",
          "traceback": [
            "\u001b[0;31m---------------------------------------------------------------------------\u001b[0m",
            "\u001b[0;31mKeyboardInterrupt\u001b[0m                         Traceback (most recent call last)",
            "\u001b[0;32m<ipython-input-40-41e39ee819eb>\u001b[0m in \u001b[0;36m<cell line: 13>\u001b[0;34m()\u001b[0m\n\u001b[1;32m     11\u001b[0m     \u001b[0mmsg\u001b[0m\u001b[0;34m.\u001b[0m\u001b[0msubmit\u001b[0m\u001b[0;34m(\u001b[0m\u001b[0mai_response\u001b[0m\u001b[0;34m,\u001b[0m \u001b[0;34m[\u001b[0m\u001b[0mmsg\u001b[0m\u001b[0;34m,\u001b[0m \u001b[0mchatbot\u001b[0m\u001b[0;34m]\u001b[0m\u001b[0;34m,\u001b[0m \u001b[0;34m[\u001b[0m\u001b[0mmsg\u001b[0m\u001b[0;34m,\u001b[0m \u001b[0mchatbot\u001b[0m\u001b[0;34m]\u001b[0m\u001b[0;34m)\u001b[0m\u001b[0;34m\u001b[0m\u001b[0;34m\u001b[0m\u001b[0m\n\u001b[1;32m     12\u001b[0m \u001b[0;34m\u001b[0m\u001b[0m\n\u001b[0;32m---> 13\u001b[0;31m \u001b[0mdemo\u001b[0m\u001b[0;34m.\u001b[0m\u001b[0mlaunch\u001b[0m\u001b[0;34m(\u001b[0m\u001b[0mprevent_thread_lock\u001b[0m\u001b[0;34m=\u001b[0m\u001b[0;32mTrue\u001b[0m\u001b[0;34m)\u001b[0m\u001b[0;34m\u001b[0m\u001b[0;34m\u001b[0m\u001b[0m\n\u001b[0m",
            "\u001b[0;32m/usr/local/lib/python3.10/dist-packages/gradio/blocks.py\u001b[0m in \u001b[0;36mlaunch\u001b[0;34m(self, inline, inbrowser, share, debug, max_threads, auth, auth_message, prevent_thread_lock, show_error, server_name, server_port, height, width, favicon_path, ssl_keyfile, ssl_certfile, ssl_keyfile_password, ssl_verify, quiet, show_api, allowed_paths, blocked_paths, root_path, app_kwargs, state_session_capacity, share_server_address, share_server_protocol, _frontend)\u001b[0m\n\u001b[1;32m   1957\u001b[0m                     \u001b[0mapp\u001b[0m\u001b[0;34m,\u001b[0m\u001b[0;34m\u001b[0m\u001b[0;34m\u001b[0m\u001b[0m\n\u001b[1;32m   1958\u001b[0m                     \u001b[0mserver\u001b[0m\u001b[0;34m,\u001b[0m\u001b[0;34m\u001b[0m\u001b[0;34m\u001b[0m\u001b[0m\n\u001b[0;32m-> 1959\u001b[0;31m                 \u001b[0;34m)\u001b[0m \u001b[0;34m=\u001b[0m \u001b[0mnetworking\u001b[0m\u001b[0;34m.\u001b[0m\u001b[0mstart_server\u001b[0m\u001b[0;34m(\u001b[0m\u001b[0;34m\u001b[0m\u001b[0;34m\u001b[0m\u001b[0m\n\u001b[0m\u001b[1;32m   1960\u001b[0m                     \u001b[0mself\u001b[0m\u001b[0;34m,\u001b[0m\u001b[0;34m\u001b[0m\u001b[0;34m\u001b[0m\u001b[0m\n\u001b[1;32m   1961\u001b[0m                     \u001b[0mserver_name\u001b[0m\u001b[0;34m,\u001b[0m\u001b[0;34m\u001b[0m\u001b[0;34m\u001b[0m\u001b[0m\n",
            "\u001b[0;32m/usr/local/lib/python3.10/dist-packages/gradio/networking.py\u001b[0m in \u001b[0;36mstart_server\u001b[0;34m(blocks, server_name, server_port, ssl_keyfile, ssl_certfile, ssl_keyfile_password, app_kwargs)\u001b[0m\n\u001b[1;32m    200\u001b[0m                 )\n\u001b[1;32m    201\u001b[0m             \u001b[0mserver\u001b[0m \u001b[0;34m=\u001b[0m \u001b[0mServer\u001b[0m\u001b[0;34m(\u001b[0m\u001b[0mconfig\u001b[0m\u001b[0;34m=\u001b[0m\u001b[0mconfig\u001b[0m\u001b[0;34m,\u001b[0m \u001b[0mreloader\u001b[0m\u001b[0;34m=\u001b[0m\u001b[0mreloader\u001b[0m\u001b[0;34m)\u001b[0m\u001b[0;34m\u001b[0m\u001b[0;34m\u001b[0m\u001b[0m\n\u001b[0;32m--> 202\u001b[0;31m             \u001b[0mserver\u001b[0m\u001b[0;34m.\u001b[0m\u001b[0mrun_in_thread\u001b[0m\u001b[0;34m(\u001b[0m\u001b[0;34m)\u001b[0m\u001b[0;34m\u001b[0m\u001b[0;34m\u001b[0m\u001b[0m\n\u001b[0m\u001b[1;32m    203\u001b[0m             \u001b[0;32mbreak\u001b[0m\u001b[0;34m\u001b[0m\u001b[0;34m\u001b[0m\u001b[0m\n\u001b[1;32m    204\u001b[0m         \u001b[0;32mexcept\u001b[0m \u001b[0;34m(\u001b[0m\u001b[0mOSError\u001b[0m\u001b[0;34m,\u001b[0m \u001b[0mServerFailedToStartError\u001b[0m\u001b[0;34m)\u001b[0m\u001b[0;34m:\u001b[0m\u001b[0;34m\u001b[0m\u001b[0;34m\u001b[0m\u001b[0m\n",
            "\u001b[0;32m/usr/local/lib/python3.10/dist-packages/gradio/networking.py\u001b[0m in \u001b[0;36mrun_in_thread\u001b[0;34m(self)\u001b[0m\n\u001b[1;32m     63\u001b[0m         \u001b[0mstart\u001b[0m \u001b[0;34m=\u001b[0m \u001b[0mtime\u001b[0m\u001b[0;34m.\u001b[0m\u001b[0mtime\u001b[0m\u001b[0;34m(\u001b[0m\u001b[0;34m)\u001b[0m\u001b[0;34m\u001b[0m\u001b[0;34m\u001b[0m\u001b[0m\n\u001b[1;32m     64\u001b[0m         \u001b[0;32mwhile\u001b[0m \u001b[0;32mnot\u001b[0m \u001b[0mself\u001b[0m\u001b[0;34m.\u001b[0m\u001b[0mstarted\u001b[0m\u001b[0;34m:\u001b[0m\u001b[0;34m\u001b[0m\u001b[0;34m\u001b[0m\u001b[0m\n\u001b[0;32m---> 65\u001b[0;31m             \u001b[0mtime\u001b[0m\u001b[0;34m.\u001b[0m\u001b[0msleep\u001b[0m\u001b[0;34m(\u001b[0m\u001b[0;36m1e-3\u001b[0m\u001b[0;34m)\u001b[0m\u001b[0;34m\u001b[0m\u001b[0;34m\u001b[0m\u001b[0m\n\u001b[0m\u001b[1;32m     66\u001b[0m             \u001b[0;32mif\u001b[0m \u001b[0mtime\u001b[0m\u001b[0;34m.\u001b[0m\u001b[0mtime\u001b[0m\u001b[0;34m(\u001b[0m\u001b[0;34m)\u001b[0m \u001b[0;34m-\u001b[0m \u001b[0mstart\u001b[0m \u001b[0;34m>\u001b[0m \u001b[0;36m5\u001b[0m\u001b[0;34m:\u001b[0m\u001b[0;34m\u001b[0m\u001b[0;34m\u001b[0m\u001b[0m\n\u001b[1;32m     67\u001b[0m                 raise ServerFailedToStartError(\n",
            "\u001b[0;31mKeyboardInterrupt\u001b[0m: "
          ]
        }
      ]
    },
    {
      "cell_type": "code",
      "source": [],
      "metadata": {
        "id": "J0EoxzTe0skk"
      },
      "id": "J0EoxzTe0skk",
      "execution_count": null,
      "outputs": []
    }
  ],
  "metadata": {
    "accelerator": "GPU",
    "colab": {
      "gpuType": "A100",
      "machine_shape": "hm",
      "provenance": []
    },
    "kernelspec": {
      "display_name": "Python 3",
      "name": "python3"
    },
    "language_info": {
      "codemirror_mode": {
        "name": "ipython",
        "version": 3
      },
      "file_extension": ".py",
      "mimetype": "text/x-python",
      "name": "python",
      "nbconvert_exporter": "python",
      "pygments_lexer": "ipython3",
      "version": "3.11.5"
    },
    "widgets": {
      "application/vnd.jupyter.widget-state+json": {
        "ad13e58f69fe45efb8e617bdb429463b": {
          "model_module": "@jupyter-widgets/controls",
          "model_name": "HBoxModel",
          "model_module_version": "1.5.0",
          "state": {
            "_dom_classes": [],
            "_model_module": "@jupyter-widgets/controls",
            "_model_module_version": "1.5.0",
            "_model_name": "HBoxModel",
            "_view_count": null,
            "_view_module": "@jupyter-widgets/controls",
            "_view_module_version": "1.5.0",
            "_view_name": "HBoxView",
            "box_style": "",
            "children": [
              "IPY_MODEL_31dd85caa7434f9b9a7cbec22140b0e4",
              "IPY_MODEL_16a18b98a5f54513b79aa3618ea6736e",
              "IPY_MODEL_9fa2070bbbbc477c886b8569244cfc20"
            ],
            "layout": "IPY_MODEL_9e6e1c4e60114b249e4ced3a81e87f7f"
          }
        },
        "31dd85caa7434f9b9a7cbec22140b0e4": {
          "model_module": "@jupyter-widgets/controls",
          "model_name": "HTMLModel",
          "model_module_version": "1.5.0",
          "state": {
            "_dom_classes": [],
            "_model_module": "@jupyter-widgets/controls",
            "_model_module_version": "1.5.0",
            "_model_name": "HTMLModel",
            "_view_count": null,
            "_view_module": "@jupyter-widgets/controls",
            "_view_module_version": "1.5.0",
            "_view_name": "HTMLView",
            "description": "",
            "description_tooltip": null,
            "layout": "IPY_MODEL_f4788fa6efa644a8b0c08c2f7026df22",
            "placeholder": "​",
            "style": "IPY_MODEL_3cb1ff1c69ee4ad89dc4f8848b4f24a6",
            "value": "Loading checkpoint shards: 100%"
          }
        },
        "16a18b98a5f54513b79aa3618ea6736e": {
          "model_module": "@jupyter-widgets/controls",
          "model_name": "FloatProgressModel",
          "model_module_version": "1.5.0",
          "state": {
            "_dom_classes": [],
            "_model_module": "@jupyter-widgets/controls",
            "_model_module_version": "1.5.0",
            "_model_name": "FloatProgressModel",
            "_view_count": null,
            "_view_module": "@jupyter-widgets/controls",
            "_view_module_version": "1.5.0",
            "_view_name": "ProgressView",
            "bar_style": "success",
            "description": "",
            "description_tooltip": null,
            "layout": "IPY_MODEL_fff6c8d96fa541e6aa5370dc37390cec",
            "max": 3,
            "min": 0,
            "orientation": "horizontal",
            "style": "IPY_MODEL_94162c2e8de94850b3da21e898ae3e9e",
            "value": 3
          }
        },
        "9fa2070bbbbc477c886b8569244cfc20": {
          "model_module": "@jupyter-widgets/controls",
          "model_name": "HTMLModel",
          "model_module_version": "1.5.0",
          "state": {
            "_dom_classes": [],
            "_model_module": "@jupyter-widgets/controls",
            "_model_module_version": "1.5.0",
            "_model_name": "HTMLModel",
            "_view_count": null,
            "_view_module": "@jupyter-widgets/controls",
            "_view_module_version": "1.5.0",
            "_view_name": "HTMLView",
            "description": "",
            "description_tooltip": null,
            "layout": "IPY_MODEL_0cdb4ccb06c1499e9714b81a255993d2",
            "placeholder": "​",
            "style": "IPY_MODEL_1f35015f30164fa3becb2b142d933cd6",
            "value": " 3/3 [00:03&lt;00:00,  1.07s/it]"
          }
        },
        "9e6e1c4e60114b249e4ced3a81e87f7f": {
          "model_module": "@jupyter-widgets/base",
          "model_name": "LayoutModel",
          "model_module_version": "1.2.0",
          "state": {
            "_model_module": "@jupyter-widgets/base",
            "_model_module_version": "1.2.0",
            "_model_name": "LayoutModel",
            "_view_count": null,
            "_view_module": "@jupyter-widgets/base",
            "_view_module_version": "1.2.0",
            "_view_name": "LayoutView",
            "align_content": null,
            "align_items": null,
            "align_self": null,
            "border": null,
            "bottom": null,
            "display": null,
            "flex": null,
            "flex_flow": null,
            "grid_area": null,
            "grid_auto_columns": null,
            "grid_auto_flow": null,
            "grid_auto_rows": null,
            "grid_column": null,
            "grid_gap": null,
            "grid_row": null,
            "grid_template_areas": null,
            "grid_template_columns": null,
            "grid_template_rows": null,
            "height": null,
            "justify_content": null,
            "justify_items": null,
            "left": null,
            "margin": null,
            "max_height": null,
            "max_width": null,
            "min_height": null,
            "min_width": null,
            "object_fit": null,
            "object_position": null,
            "order": null,
            "overflow": null,
            "overflow_x": null,
            "overflow_y": null,
            "padding": null,
            "right": null,
            "top": null,
            "visibility": null,
            "width": null
          }
        },
        "f4788fa6efa644a8b0c08c2f7026df22": {
          "model_module": "@jupyter-widgets/base",
          "model_name": "LayoutModel",
          "model_module_version": "1.2.0",
          "state": {
            "_model_module": "@jupyter-widgets/base",
            "_model_module_version": "1.2.0",
            "_model_name": "LayoutModel",
            "_view_count": null,
            "_view_module": "@jupyter-widgets/base",
            "_view_module_version": "1.2.0",
            "_view_name": "LayoutView",
            "align_content": null,
            "align_items": null,
            "align_self": null,
            "border": null,
            "bottom": null,
            "display": null,
            "flex": null,
            "flex_flow": null,
            "grid_area": null,
            "grid_auto_columns": null,
            "grid_auto_flow": null,
            "grid_auto_rows": null,
            "grid_column": null,
            "grid_gap": null,
            "grid_row": null,
            "grid_template_areas": null,
            "grid_template_columns": null,
            "grid_template_rows": null,
            "height": null,
            "justify_content": null,
            "justify_items": null,
            "left": null,
            "margin": null,
            "max_height": null,
            "max_width": null,
            "min_height": null,
            "min_width": null,
            "object_fit": null,
            "object_position": null,
            "order": null,
            "overflow": null,
            "overflow_x": null,
            "overflow_y": null,
            "padding": null,
            "right": null,
            "top": null,
            "visibility": null,
            "width": null
          }
        },
        "3cb1ff1c69ee4ad89dc4f8848b4f24a6": {
          "model_module": "@jupyter-widgets/controls",
          "model_name": "DescriptionStyleModel",
          "model_module_version": "1.5.0",
          "state": {
            "_model_module": "@jupyter-widgets/controls",
            "_model_module_version": "1.5.0",
            "_model_name": "DescriptionStyleModel",
            "_view_count": null,
            "_view_module": "@jupyter-widgets/base",
            "_view_module_version": "1.2.0",
            "_view_name": "StyleView",
            "description_width": ""
          }
        },
        "fff6c8d96fa541e6aa5370dc37390cec": {
          "model_module": "@jupyter-widgets/base",
          "model_name": "LayoutModel",
          "model_module_version": "1.2.0",
          "state": {
            "_model_module": "@jupyter-widgets/base",
            "_model_module_version": "1.2.0",
            "_model_name": "LayoutModel",
            "_view_count": null,
            "_view_module": "@jupyter-widgets/base",
            "_view_module_version": "1.2.0",
            "_view_name": "LayoutView",
            "align_content": null,
            "align_items": null,
            "align_self": null,
            "border": null,
            "bottom": null,
            "display": null,
            "flex": null,
            "flex_flow": null,
            "grid_area": null,
            "grid_auto_columns": null,
            "grid_auto_flow": null,
            "grid_auto_rows": null,
            "grid_column": null,
            "grid_gap": null,
            "grid_row": null,
            "grid_template_areas": null,
            "grid_template_columns": null,
            "grid_template_rows": null,
            "height": null,
            "justify_content": null,
            "justify_items": null,
            "left": null,
            "margin": null,
            "max_height": null,
            "max_width": null,
            "min_height": null,
            "min_width": null,
            "object_fit": null,
            "object_position": null,
            "order": null,
            "overflow": null,
            "overflow_x": null,
            "overflow_y": null,
            "padding": null,
            "right": null,
            "top": null,
            "visibility": null,
            "width": null
          }
        },
        "94162c2e8de94850b3da21e898ae3e9e": {
          "model_module": "@jupyter-widgets/controls",
          "model_name": "ProgressStyleModel",
          "model_module_version": "1.5.0",
          "state": {
            "_model_module": "@jupyter-widgets/controls",
            "_model_module_version": "1.5.0",
            "_model_name": "ProgressStyleModel",
            "_view_count": null,
            "_view_module": "@jupyter-widgets/base",
            "_view_module_version": "1.2.0",
            "_view_name": "StyleView",
            "bar_color": null,
            "description_width": ""
          }
        },
        "0cdb4ccb06c1499e9714b81a255993d2": {
          "model_module": "@jupyter-widgets/base",
          "model_name": "LayoutModel",
          "model_module_version": "1.2.0",
          "state": {
            "_model_module": "@jupyter-widgets/base",
            "_model_module_version": "1.2.0",
            "_model_name": "LayoutModel",
            "_view_count": null,
            "_view_module": "@jupyter-widgets/base",
            "_view_module_version": "1.2.0",
            "_view_name": "LayoutView",
            "align_content": null,
            "align_items": null,
            "align_self": null,
            "border": null,
            "bottom": null,
            "display": null,
            "flex": null,
            "flex_flow": null,
            "grid_area": null,
            "grid_auto_columns": null,
            "grid_auto_flow": null,
            "grid_auto_rows": null,
            "grid_column": null,
            "grid_gap": null,
            "grid_row": null,
            "grid_template_areas": null,
            "grid_template_columns": null,
            "grid_template_rows": null,
            "height": null,
            "justify_content": null,
            "justify_items": null,
            "left": null,
            "margin": null,
            "max_height": null,
            "max_width": null,
            "min_height": null,
            "min_width": null,
            "object_fit": null,
            "object_position": null,
            "order": null,
            "overflow": null,
            "overflow_x": null,
            "overflow_y": null,
            "padding": null,
            "right": null,
            "top": null,
            "visibility": null,
            "width": null
          }
        },
        "1f35015f30164fa3becb2b142d933cd6": {
          "model_module": "@jupyter-widgets/controls",
          "model_name": "DescriptionStyleModel",
          "model_module_version": "1.5.0",
          "state": {
            "_model_module": "@jupyter-widgets/controls",
            "_model_module_version": "1.5.0",
            "_model_name": "DescriptionStyleModel",
            "_view_count": null,
            "_view_module": "@jupyter-widgets/base",
            "_view_module_version": "1.2.0",
            "_view_name": "StyleView",
            "description_width": ""
          }
        }
      }
    }
  },
  "nbformat": 4,
  "nbformat_minor": 5
}